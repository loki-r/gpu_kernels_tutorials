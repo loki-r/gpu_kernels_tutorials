{
 "cells": [
  {
   "cell_type": "code",
   "execution_count": 17,
   "id": "17a06eb4",
   "metadata": {},
   "outputs": [],
   "source": [
    "import triton\n",
    "import torch\n",
    "import os\n",
    "import triton.language as tl\n",
    "import cutlass\n",
    "import cutlass.cute as cute\n",
    "from cutlass.cute.runtime import from_dlpack\n",
    "\n",
    "\n",
    "DEVICE = torch.device(\"cuda:0\")"
   ]
  },
  {
   "cell_type": "code",
   "execution_count": 8,
   "id": "cf9f41b4",
   "metadata": {},
   "outputs": [],
   "source": [
    "# Here we define the torch code\n",
    "\n",
    "def torch_add(x, y):\n",
    "    return x + y"
   ]
  },
  {
   "cell_type": "code",
   "execution_count": 5,
   "id": "bbff1d6b",
   "metadata": {},
   "outputs": [],
   "source": [
    "# Here we define the torch compile code\n",
    "\n",
    "@torch.compile\n",
    "def torch_compile_add(x, y):\n",
    "    return x + y"
   ]
  },
  {
   "cell_type": "code",
   "execution_count": 12,
   "id": "310b857d",
   "metadata": {},
   "outputs": [],
   "source": [
    "# Here we define the triton code\n",
    "\n",
    "@triton.jit\n",
    "def add_kernel(x_ptr,\n",
    "               y_ptr,\n",
    "               output_ptr,\n",
    "               n_elements,\n",
    "               BLOCK_SIZE: tl.constexpr):\n",
    "    pid = tl.program_id(axis=0)\n",
    "    block_start = pid * BLOCK_SIZE\n",
    "    offsets = block_start + tl.arange(0, BLOCK_SIZE)\n",
    "    mask = offsets < n_elements\n",
    "    x = tl.load(x_ptr + offsets, mask = mask)\n",
    "    y = tl.load(y_ptr + offsets, mask = mask)\n",
    "    z = x + y\n",
    "    tl.store(output_ptr + offsets, z, mask = mask)\n",
    "\n",
    "def triton_add(x, y):\n",
    "    output = torch.empty_like(x)\n",
    "    assert x.device == DEVICE and y.device == DEVICE and output.device == DEVICE\n",
    "    n_elements = output.numel()\n",
    "    grid = lambda meta: (triton.cdiv(n_elements, meta['BLOCK_SIZE']), )\n",
    "    add_kernel[grid](x, y, output, n_elements, BLOCK_SIZE=1024)\n",
    "    return output"
   ]
  },
  {
   "cell_type": "code",
   "execution_count": null,
   "id": "0fb4ca6b",
   "metadata": {},
   "outputs": [],
   "source": [
    "# Here we define the cute code\n",
    "\n",
    "os.environ[\"PYTHONUNBUFFERED\"] = 1\n",
    "\n",
    "@cute.kernel\n",
    "def vectorized_elementwise_add_kernel(\n",
    "    gA: cute.Tensor,\n",
    "    gB: cute.Tensor,\n",
    "    gC: cute.Tensor,\n",
    "):\n",
    "    tidx, _, _ = cute.arch.thread_idx()\n",
    "    bidx, _, _ = cute.arch.block_idx()\n",
    "    bdim, _, _ = cute.arch.block_dim()\n",
    "\n",
    "    thread_idx = bidx * bdim + tidx\n",
    "\n",
    "    # Map thread index to logical index of input tensor\n",
    "    m, n = gA.shape[1]       # thread-domain\n",
    "    ni = thread_idx % n\n",
    "    mi = thread_idx // n\n",
    "\n",
    "    # Map logical index to physical address via tensor layout\n",
    "    a_val = gA[(None, (mi, ni))].load()\n",
    "    b_val = gB[(None, (mi, ni))].load()\n",
    "\n",
    "    # Perform element-wise addition\n",
    "    gC[(None, (mi, ni))] = a_val + b_val\n",
    "\n",
    "@cute.jit\n",
    "def vectorized_elementwise_add(\n",
    "    mA: cute.Tensor,\n",
    "    mB: cute.Tensor,\n",
    "    mC: cute.Tensor\n",
    "):\n",
    "    threads_per_block = 256\n",
    "\n",
    "    gA = cute.zipped_divide(mA, (4))\n",
    "    gB = cute.zipped_divide(mB, (4))\n",
    "    gC = cute.zipped_divide(mC, (4))\n",
    "\n",
    "    vectorized_elementwise_add_kernel(gA, gB, gC).launch(\n",
    "        grid=(cute.size(gC, mode=[1]) // threads_per_block, 1, 1),\n",
    "        block=(threads_per_block, 1, 1),\n",
    "    )\n",
    "\n",
    "a = torch.randn(256, device=\"cuda\", dtype=torch.float16)\n",
    "b = torch.randn(256, device=\"cuda\", dtype=torch.float16)\n",
    "c = torch.zeros(256, device=\"cuda\", dtype=torch.float16)\n",
    "a_ = from_dlpack(a, assumed_align=16)\n",
    "b_ = from_dlpack(b, assumed_align=16)\n",
    "c_ = from_dlpack(c, assumed_align=16)\n",
    "cute_dsl_add = cute.compile(vectorized_elementwise_add, a_, b_, c_)\n",
    "\n",
    "def cute_dsl_add(x, y):\n",
    "    out = torch.zeros_like(x)\n",
    "    cute_x = from_dlpack(x, assumed_align=16)\n",
    "    cute_y = from_dlpack(y, assumed_align=16)\n",
    "    cute_out = from_dlpack(out, assumed_align=16)\n",
    "    cute_dsl_add(cute_x, cute_y, cute_out)\n",
    "\n",
    "\n"
   ]
  },
  {
   "cell_type": "code",
   "execution_count": null,
   "id": "6857f8a6",
   "metadata": {},
   "outputs": [],
   "source": [
    "\n",
    "@triton.testing.perf_report(\n",
    "    triton.testing.Benchmark(\n",
    "        x_names=['size'],  # Argument names to use as an x-axis for the plot.\n",
    "        x_vals=[2**i for i in range(12, 28, 1)],  # Different possible values for `x_name`.\n",
    "        x_log=True,  # x axis is logarithmic.\n",
    "        line_arg='provider',  # Argument name whose value corresponds to a different line in the plot.\n",
    "        line_vals=['triton', 'torch', 'torch_compile', 'cute_dsl'],  # Possible values for `line_arg`.\n",
    "        line_names=['Triton', 'Torch', 'Torch Compile', 'Cute dsl'],  # Label name for the lines.\n",
    "        ylabel='GB/s',  # Label name for the y-axis.\n",
    "        plot_name='vector-add-performance',  # Name for the plot. Used also as a file name for saving the plot.\n",
    "        args={},  # Values for function arguments not in `x_names` and `y_name`.\n",
    "    ))\n",
    "def benchmark(size, provider):\n",
    "    x = torch.rand(size, device=DEVICE, dtype=torch.float32)\n",
    "    y = torch.rand(size, device=DEVICE, dtype=torch.float32)\n",
    "    quantiles = [0.5, 0.2, 0.8]\n",
    "    target_function = globals()[provider + \"_add\"]\n",
    "\n",
    "    ms, min_ms, max_ms = triton.testing.do_bench(lambda: target_function(x, y), quantiles=quantiles)\n",
    "    gbps = lambda ms: 3 * x.numel() * x.element_size() * 1e-9 / (ms * 1e-3)\n",
    "    return gbps(ms), gbps(max_ms), gbps(min_ms)"
   ]
  },
  {
   "cell_type": "code",
   "execution_count": 15,
   "id": "7a48d194",
   "metadata": {},
   "outputs": [
    {
     "data": {
      "image/png": "[encoded data removed]",
      "text/plain": [
       "<Figure size 640x480 with 1 Axes>"
      ]
     },
     "metadata": {},
     "output_type": "display_data"
    },
    {
     "name": "stdout",
     "output_type": "stream",
     "text": [
      "vector-add-performance:\n",
      "           size      Triton       Torch  Torch Compile\n",
      "0        4096.0    9.600000   12.000000       9.600000\n",
      "1        8192.0   23.813955   19.200000      23.097745\n",
      "2       16384.0   38.400001   38.400001      38.400001\n",
      "3       32768.0   63.999998   63.999998      76.800002\n",
      "4       65536.0  127.999995  109.714284     109.714284\n",
      "5      131072.0  170.666661  192.000000     170.666661\n",
      "6      262144.0  255.999991  255.999991     255.999991\n",
      "7      524288.0  323.368435  323.368435     323.368435\n",
      "8     1048576.0  351.085705  361.411758     361.245743\n",
      "9     2097152.0  384.000001  384.000001     390.095241\n",
      "10    4194304.0  413.042029  413.042029     416.542360\n",
      "11    8388608.0  427.408686  427.408686     429.275114\n",
      "12   16777216.0  438.857137  437.879719     437.879719\n",
      "13   33554432.0  443.810387  444.311871     441.815718\n",
      "14   67108864.0  446.582618  446.836360     446.075998\n",
      "15  134217728.0  447.217514  448.237112     448.620660\n"
     ]
    }
   ],
   "source": [
    "benchmark.run(print_data=True, show_plots=True)"
   ]
  }
 ],
 "metadata": {
  "kernelspec": {
   "display_name": "Python 3",
   "language": "python",
   "name": "python3"
  },
  "language_info": {
   "codemirror_mode": {
    "name": "ipython",
    "version": 3
   },
   "file_extension": ".py",
   "mimetype": "text/x-python",
   "name": "python",
   "nbconvert_exporter": "python",
   "pygments_lexer": "ipython3",
   "version": "3.12.0"
  }
 },
 "nbformat": 4,
 "nbformat_minor": 5
}
